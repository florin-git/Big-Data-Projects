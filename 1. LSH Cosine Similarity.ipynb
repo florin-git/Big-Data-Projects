{
 "cells": [
  {
   "cell_type": "markdown",
   "metadata": {},
   "source": [
    "# Setup"
   ]
  },
  {
   "cell_type": "code",
   "execution_count": 1,
   "metadata": {},
   "outputs": [],
   "source": [
    "import pandas as pd\n",
    "import numpy as np\n",
    "import scipy\n",
    "import nltk\n",
    "\n",
    "import re\n",
    "import random\n",
    "import time\n",
    "import string\n",
    "import pickle\n",
    "import itertools\n",
    "from typing import *\n",
    "from collections import defaultdict, Counter"
   ]
  },
  {
   "cell_type": "code",
   "execution_count": null,
   "metadata": {},
   "outputs": [],
   "source": [
    "# For reproducibility\n",
    "SEED = 10\n",
    "random.seed(SEED)\n",
    "np.random.seed(SEED)\n",
    "\n",
    "nltk.download('stopwords')\n",
    "nltk.download('wordnet')\n",
    "nltk.download('punkt')\n",
    "nltk.download('omw-1.4')\n",
    "\n",
    "# Display the entire text\n",
    "pd.set_option(\"display.max_colwidth\", None)"
   ]
  },
  {
   "cell_type": "markdown",
   "metadata": {},
   "source": [
    "**Note**: I tested my code in **local**, therefore it might happen that some result is different in Colab, even with the same random seed. "
   ]
  },
  {
   "cell_type": "markdown",
   "metadata": {},
   "source": [
    "# 1. Pre-processing"
   ]
  },
  {
   "attachments": {},
   "cell_type": "markdown",
   "metadata": {},
   "source": [
    "The dataset is the [Amazon Fine Food Reviews](https://www.kaggle.com/datasets/snap/amazon-fine-food-reviews). I only used the textual information from the reviews to compute the similarity. "
   ]
  },
  {
   "cell_type": "code",
   "execution_count": null,
   "metadata": {},
   "outputs": [],
   "source": [
    "dataset_path = \"./datasets/reviews.csv\"\n",
    "# Create a Pandas DataFrame\n",
    "df = pd.read_csv(dataset_path, sep = ',') "
   ]
  },
  {
   "cell_type": "markdown",
   "metadata": {},
   "source": [
    "Get only the text from the dataset."
   ]
  },
  {
   "cell_type": "code",
   "execution_count": 4,
   "metadata": {},
   "outputs": [],
   "source": [
    "df_text = df['Text']"
   ]
  },
  {
   "cell_type": "markdown",
   "metadata": {},
   "source": [
    "By applying multiple times the method `sample` we can notice that the dataset is pretty 'dirty', as it contains HTML tags, URLS, non-english characters etc. "
   ]
  },
  {
   "cell_type": "code",
   "execution_count": 5,
   "metadata": {},
   "outputs": [
    {
     "data": {
      "text/plain": [
       "160375                                                                                                                                                                                                                                                                                                                                                                                                                                                                                                                                                                                                                                                                                                                                                                                                                                                                                                                                                                                                                                                                                                                                                                                                                                                                                                     Very good for digestive system. Easy to eat with cold milk. Very flaky. Has a nice taste and texture. Sometimes hard to find in stores and the prices are high. You cannot beat the price if you buy from amazon.\n",
       "92654     I am a label reader - I count fat grams, carbs, proteins and grams of fiber vs. grams of sugar. Most foods that advertise themselves as a \"healthy\" snack are not really all that good for you. Often they are too high in calories or they use products that you just shouldn't eat. This snack food, FoodShouldTasteGood Multigrain chips really is a good tasting, good for you snack.<br /><br />The ingredients are listed on this page and you can see that there are no hydrogenated oils, no high fructose corn syrup and no MSG. They contain grains that are visible in the chip and a one ounce serving gives you 3 grams of fiber. (The packaging doesn't specify if it is soluble or insoluble.)<br /><br />The chips are delicious. They are thicker than what you would expect in a normal corn tortilla chip; more like a cracker in thickness but with the crunch of a chip. The flavor is similar to a popular name brand corn chip (Fritos) only without the added fat. I can see where some people say they have a stale taste - there is a grain that has a mild nutty flavor in the chip that you don't expect to taste in a corn chip. I recommend the multigrain chip if you are hungry for a salty snack that won't blow your diet and that leaves all the unhealthy junk out. I tried the Buffalo flavor and they have a very mild kick; much milder than I expected. I still like them, but not as much as the plain.  I really enjoy eating the Multigrain with a little lowfat queso!\n",
       "367563                                                                                                                                                                                                                                                                                                                                                                                                                               Before I get rambling, I have to say this stuff smells FANTASTIC, Crazy or not, occasionally I'll just open the jar and take a nice inhale.<br /><br />I bought this for two reasons, 1 my dog and I have been fighting the ups and downs of skin treatments for years. Antibiotics, skin creams, food changes, special shampoos, ugh you name it, I've put more money onto my dogs rear end then I have ever spent on myself, and to top it off all his skin issues make him smelly! I read online that coconut oil helps solve a multitude of issues inside and out, and since it's something all natural, I feel better about using it in general.<br /><br />I put it directly onto his legs and lower back just today, the fragrant coconut oil really helps with cutting back on how smelly he is, He seems less restless with his itchy spots - but only time will really tell if this stuff is really going to make any progress for him.<br /><br />The other reason I purchased this was because I wanted to make my own handmade soap, and it worked just fine for that use!\n",
       "557346                                                                                                                                                                                                                                                                                                                                                                                                                                                                                                                                                                                                                                                                                                                                                                                                                                                                                                                                                                                                                                                                                                                                                                                                                                                                  Jolly Ranchers Watermellon hard candy from Amazon seller at $6+ are an excellent value. They are fresh and taste awesome...Believe the Seller is Alldirect?. Anyways, value, price, and service are spectacular for a tasty treat.<br /><br />yancyd\n",
       "143941                                                                                                                                                                                                                                                                                                                                                                                                                                                                                                                                                                                                                                                                                                                                                                                                                                                                                                                                                                                                                                                                                                                                                These are much better then I thought they would taste.  They have a good crunch and are true to graham flavor with a hint of saltiness.  My son really likes to snack on these, and I think they are better then the Earth's Best graham sticks I used to buy for him.  I stole a bag of these from our pantry and tried dipping them in nutella on the ends.  Heaven!\n",
       "Name: Text, dtype: object"
      ]
     },
     "execution_count": 5,
     "metadata": {},
     "output_type": "execute_result"
    }
   ],
   "source": [
    "df_text.sample(5)"
   ]
  },
  {
   "cell_type": "markdown",
   "metadata": {},
   "source": [
    "Before the cleaning process, it is important to convert contractions in their extended form in order to reduce the vocabulary dimension."
   ]
  },
  {
   "cell_type": "code",
   "execution_count": 6,
   "metadata": {},
   "outputs": [],
   "source": [
    "contractions_dict = {\n",
    "  \"ain't\": \"am not\",\n",
    "  \"aren't\": \"are not\",\n",
    "  \"can't\": \"cannot\",\n",
    "  \"can't've\": \"cannot have\",\n",
    "  \"'cause\": \"because\",\n",
    "  \"could've\": \"could have\",\n",
    "  \"couldn't\": \"could not\",\n",
    "  \"couldn't've\": \"could not have\",\n",
    "  \"didn't\": \"did not\",\n",
    "  \"doesn't\": \"does not\",\n",
    "  \"don't\": \"do not\",\n",
    "  \"hadn't\": \"had not\",\n",
    "  \"hadn't've\": \"had not have\",\n",
    "  \"hasn't\": \"has not\",\n",
    "  \"haven't\": \"have not\",\n",
    "  \"he'd\": \"he would\",\n",
    "  \"he'd've\": \"he would have\",\n",
    "  \"he'll\": \"he will\",\n",
    "  \"he'll've\": \"he will have\",\n",
    "  \"he's\": \"he is\",\n",
    "  \"how'd\": \"how did\",\n",
    "  \"how'd'y\": \"how do you\",\n",
    "  \"how'll\": \"how will\",\n",
    "  \"how's\": \"how is\",\n",
    "  \"i'd\": \"I would\",\n",
    "  \"i'd've\": \"I would have\",\n",
    "  \"i'll\": \"I will\",\n",
    "  \"i'll've\": \"I will have\",\n",
    "  \"i'm\": \"I am\",\n",
    "  \"i've\": \"I have\",\n",
    "  \"isn't\": \"is not\",\n",
    "  \"it'd\": \"it had\",\n",
    "  \"it'd've\": \"it would have\",\n",
    "  \"it'll\": \"it will\",\n",
    "  \"it'll've\": \"it will have\",\n",
    "  \"it's\": \"it is\",\n",
    "  \"let's\": \"let us\",\n",
    "  \"ma'am\": \"madam\",\n",
    "  \"mayn't\": \"may not\",\n",
    "  \"might've\": \"might have\",\n",
    "  \"mightn't\": \"might not\",\n",
    "  \"mightn't've\": \"might not have\",\n",
    "  \"must've\": \"must have\",\n",
    "  \"mustn't\": \"must not\",\n",
    "  \"mustn't've\": \"must not have\",\n",
    "  \"needn't\": \"need not\",\n",
    "  \"needn't've\": \"need not have\",\n",
    "  \"o'clock\": \"of the clock\",\n",
    "  \"oughtn't\": \"ought not\",\n",
    "  \"oughtn't've\": \"ought not have\",\n",
    "  \"shan't\": \"shall not\",\n",
    "  \"sha'n't\": \"shall not\",\n",
    "  \"shan't've\": \"shall not have\",\n",
    "  \"she'd\": \"she would\",\n",
    "  \"she'd've\": \"she would have\",\n",
    "  \"she'll\": \"she will\",\n",
    "  \"she'll've\": \"she will have\",\n",
    "  \"she's\": \"she is\",\n",
    "  \"should've\": \"should have\",\n",
    "  \"shouldn't\": \"should not\",\n",
    "  \"shouldn't've\": \"should not have\",\n",
    "  \"so've\": \"so have\",\n",
    "  \"so's\": \"so is\",\n",
    "  \"that'd\": \"that would\",\n",
    "  \"that'd've\": \"that would have\",\n",
    "  \"that's\": \"that is\",\n",
    "  \"there'd\": \"there had\",\n",
    "  \"there'd've\": \"there would have\",\n",
    "  \"there's\": \"there is\",\n",
    "  \"they'd\": \"they would\",\n",
    "  \"they'd've\": \"they would have\",\n",
    "  \"they'll\": \"they will\",\n",
    "  \"they'll've\": \"they will have\",\n",
    "  \"they're\": \"they are\",\n",
    "  \"they've\": \"they have\",\n",
    "  \"to've\": \"to have\",\n",
    "  \"wasn't\": \"was not\",\n",
    "  \"we'd\": \"we had\",\n",
    "  \"we'd've\": \"we would have\",\n",
    "  \"we'll\": \"we will\",\n",
    "  \"we'll've\": \"we will have\",\n",
    "  \"we're\": \"we are\",\n",
    "  \"we've\": \"we have\",\n",
    "  \"weren't\": \"were not\",\n",
    "  \"what'll\": \"what will\",\n",
    "  \"what'll've\": \"what will have\",\n",
    "  \"what're\": \"what are\",\n",
    "  \"what's\": \"what is\",\n",
    "  \"what've\": \"what have\",\n",
    "  \"when's\": \"when is\",\n",
    "  \"when've\": \"when have\",\n",
    "  \"where'd\": \"where did\",\n",
    "  \"where's\": \"where is\",\n",
    "  \"where've\": \"where have\",\n",
    "  \"who'll\": \"who will\",\n",
    "  \"who'll've\": \"who will have\",\n",
    "  \"who's\": \"who is\",\n",
    "  \"who've\": \"who have\",\n",
    "  \"why's\": \"why is\",\n",
    "  \"why've\": \"why have\",\n",
    "  \"will've\": \"will have\",\n",
    "  \"won't\": \"will not\",\n",
    "  \"won't've\": \"will not have\",\n",
    "  \"would've\": \"would have\",\n",
    "  \"wouldn't\": \"would not\",\n",
    "  \"wouldn't've\": \"would not have\",\n",
    "  \"y'all\": \"you all\",\n",
    "  \"y'alls\": \"you alls\",\n",
    "  \"y'all'd\": \"you all would\",\n",
    "  \"y'all'd've\": \"you all would have\",\n",
    "  \"y'all're\": \"you all are\",\n",
    "  \"y'all've\": \"you all have\",\n",
    "  \"you'd\": \"you had\",\n",
    "  \"you'd've\": \"you would have\",\n",
    "  \"you'll\": \"you will\",\n",
    "  \"you'll've\": \"you will have\",\n",
    "  \"you're\": \"you are\",\n",
    "  \"you've\": \"you have\"\n",
    "}"
   ]
  },
  {
   "cell_type": "code",
   "execution_count": 7,
   "metadata": {},
   "outputs": [],
   "source": [
    "from nltk.stem.porter import PorterStemmer\n",
    "from nltk.stem import WordNetLemmatizer\n",
    "\n",
    "class TextCleaner:\n",
    "    def __init__(self, df_text: pd.DataFrame, contractions_dict: Optional[ Dict[str, str] ] = None):\n",
    "        self.df_text = df_text\n",
    "\n",
    "        # Contractions\n",
    "        self.contractions_dict = contractions_dict\n",
    "\n",
    "        # URL pattern\n",
    "        self.url_pattern = re.compile(\"http[s]?://(?:[a-zA-Z]|[0-9]|[$-_@.&+]|[!*\\(\\),]|(?:%[0-9a-fA-F][0-9a-fA-F]))+\")\n",
    "        self.htlm_pattern = re.compile('<.*?>|&([a-z0-9]+|#[0-9]{1,6}|#x[0-9a-f]{1,6});')\n",
    "\n",
    "        # Emoji pattern\n",
    "        self.emoji_pattern = re.compile(\"[\"\n",
    "                                u\"\\U0001F600-\\U0001F64F\"  # emoticons\n",
    "                                u\"\\U0001F300-\\U0001F5FF\"  # symbols & pictographs\n",
    "                                u\"\\U0001F680-\\U0001F6FF\"  # transport & map symbols\n",
    "                                u\"\\U0001F1E0-\\U0001F1FF\"  # flags (iOS)\n",
    "                                u\"\\U00002702-\\U000027B0\"\n",
    "                                u\"\\U000024C2-\\U0001F251\"\n",
    "                                \"]+\", flags=re.UNICODE)\n",
    "\n",
    "        # Punctuation\n",
    "                                    # The last two dashes seem the same but actually the are not.\n",
    "        self.punctuation = list(string.punctuation) + [\"‘\",\"’\", \"“\", \"”\", \"–\", \"―\", \"—\"]\n",
    "\n",
    "        # Stopwords\n",
    "        self.stop_words = nltk.corpus.stopwords.words('english') \n",
    "        \n",
    "\n",
    "    def clean_df(self, do_lemmatization):\n",
    "        df_text_clean = self.df_text.apply(self.clean_text, args=(do_lemmatization,) )    \n",
    "        return df_text_clean\n",
    "\n",
    "    def clean_text (\n",
    "        self,\n",
    "        text: str, \n",
    "        do_lemmatization: bool = False,\n",
    "        do_stemming: bool = False,\n",
    "    ) -> str:\n",
    "\n",
    "        \"\"\"\n",
    "        Returns\n",
    "        -------\n",
    "            A 'cleaned' string, where are removed HTML, URLS, emoji, \n",
    "            punctuation, stopword and numbers. It can also be\n",
    "            lemmatized or stemmed.\n",
    "            \n",
    "        Parameters\n",
    "        ----------\n",
    "        text: str\n",
    "            The string to be cleaned. In this case, a sentence from the dataset.\n",
    "        \n",
    "        do_lemmatization: bool\n",
    "            If True the text is also lemmatize.\n",
    "        \n",
    "        do_stemming: bool\n",
    "            If True the text is also stemmatize.    \n",
    "        \"\"\"\n",
    "\n",
    "        text = str(text).lower()\n",
    "        \n",
    "        # Remove HTML\n",
    "        text = self.htlm_pattern.sub(r'', text)\n",
    "        text = self.url_pattern.sub(r'', text)\n",
    "        \n",
    "        # Remove Emoji\n",
    "        text = self.emoji_pattern.sub(r'', text)\n",
    "        \n",
    "        # Remove contractions\n",
    "        if contractions_dict is not None:\n",
    "            text = ' '.join([contractions_dict[token] if token in self.contractions_dict else token for token in text.split()])\n",
    "        \n",
    "        # Remove punctuation\n",
    "        text = ''.join([punc for punc in text if punc not in self.punctuation])\n",
    "        \n",
    "        # Remove stopwords\n",
    "        text = ' '.join([word for word in text.split() if word not in self.stop_words])\n",
    "\n",
    "        # Remove numbers\n",
    "        text = re.sub(\"\\d+\", \"\", text)\n",
    "\n",
    "        # Lemming\n",
    "        if do_lemmatization:\n",
    "            lemmatizer = WordNetLemmatizer()\n",
    "            text_lemmatize = [lemmatizer.lemmatize(token) for token in text.split()]\n",
    "            text = ' '.join(text_lemmatize)\n",
    "\n",
    "        # Stemming: e.g., history --> histori, historical --> histori\n",
    "        if do_stemming:\n",
    "            stemmer = PorterStemmer() \n",
    "            text_stemmed = [stemmer.stem(word) for word in text.split()]\n",
    "            text = ' '.join(text_stemmed)\n",
    "\n",
    "        # Remove strings with one or two characters only\n",
    "        text = ' '.join([l for l in text.split() if len(l) >= 3])\n",
    "\n",
    "        return text.strip() # Remove all the useless space"
   ]
  },
  {
   "cell_type": "code",
   "execution_count": 8,
   "metadata": {},
   "outputs": [],
   "source": [
    "text_cleaner = TextCleaner(df_text, contractions_dict)"
   ]
  },
  {
   "cell_type": "code",
   "execution_count": 9,
   "metadata": {},
   "outputs": [],
   "source": [
    "df_text_cleaned = text_cleaner.clean_df(do_lemmatization=True)"
   ]
  },
  {
   "cell_type": "code",
   "execution_count": 3,
   "metadata": {},
   "outputs": [],
   "source": [
    "path_cleaned_text = \"./datasets/cleaned_text.csv\""
   ]
  },
  {
   "cell_type": "markdown",
   "metadata": {},
   "source": [
    "I decided to save the cleaned dataset to disk, to avoid the cleaning operation to be executed every time.\n",
    "\n",
    "You can directly import the dataset from the next cell.\n",
    "\n",
    "    df_text_cleaned.to_csv(path_or_buf=path_cleaned_text, index_label=False)"
   ]
  },
  {
   "cell_type": "code",
   "execution_count": 4,
   "metadata": {},
   "outputs": [],
   "source": [
    "df_text_cleaned = pd.read_csv(path_cleaned_text, sep = ',')['Text'] "
   ]
  },
  {
   "cell_type": "markdown",
   "metadata": {},
   "source": [
    "I check if after the pre-processing some reviews got completely delete because with a lot of noise."
   ]
  },
  {
   "cell_type": "code",
   "execution_count": 14,
   "metadata": {},
   "outputs": [
    {
     "data": {
      "text/plain": [
       "Int64Index([188001, 233938, 299605, 324249, 378643, 388831, 487863, 544869], dtype='int64')"
      ]
     },
     "execution_count": 14,
     "metadata": {},
     "output_type": "execute_result"
    }
   ],
   "source": [
    "idx_null_text_after_cleaning = df_text_cleaned[df_text_cleaned.isnull()].index\n",
    "idx_null_text_after_cleaning"
   ]
  },
  {
   "cell_type": "code",
   "execution_count": 17,
   "metadata": {},
   "outputs": [
    {
     "data": {
      "text/plain": [
       "188001                                                                                                                                                                                                                                                                                                                                                                                                                                                                                                                                                                                                                                                                                                                                                                                                                                                                                                                                                        v e r y g o o d v e r y g o o d v e r y g o o d v e r y g o o d\n",
       "233938    &#1056;&#1077;&#1096;&#1080;&#1083;&#1072; &#1079;&#1072;&#1082;&#1072;&#1079;&#1072;&#1090;&#1100; &#1101;&#1090;&#1080; &#1078;&#1077;&#1083;&#1072;&#1090;&#1080;&#1085;&#1082;&#1080;, &#1090;.&#1082;. &#1076;&#1086;&#1095;&#1082;&#1072; &#1087;&#1086;&#1096;&#1083;&#1072; &#1074; &#1096;&#1082;&#1086;&#1083;&#1091; &#1080; &#1090;&#1088;&#1077;&#1073;&#1091;&#1077;&#1090; &#1089;&#1083;&#1072;&#1076;&#1086;&#1089;&#1090;&#1080;. &#1054;&#1095;&#1077;&#1085;&#1100; &#1091;&#1076;&#1086;&#1073;&#1085;&#1072;&#1103; &#1091;&#1087;&#1072;&#1082;&#1086;&#1074;&#1082;&#1072;. &#1050;&#1072;&#1082; &#1088;&#1072;&#1079; &#1089;&#1090;&#1086;&#1083;&#1100;&#1082;&#1086; &#1082;&#1086;&#1085;&#1092;&#1077;&#1090;, &#1082;&#1072;&#1082; &#1080; &#1090;&#1088;&#1077;&#1073;&#1091;&#1077;&#1090;&#1089;&#1103;, &#1095;&#1090;&#1086;&#1073;&#1099; &#1089;&#1100;&#1077;&#1089;&#1090;&#1100; &#1080;&#1093; &#1079;&#1072; &#1087;&#1077;&#1088;&#1077;&#1084;&#1077;&#1085;&#1091;.\n",
       "299605                                                                                                                                                                                                                                                                                                                                                                                                                                                                                                                                                                                                                                                                                                                                                                                                                                                                                                                                                        v e r y g o o d v e r y g o o d v e r y g o o d v e r y g o o d\n",
       "324249                                                                                                                                                                                                                                                                                                                                                                                                                                                                                                                                                                                                                                                                                                                                                                                                                                                                                                                                                        v e r y g o o d v e r y g o o d v e r y g o o d v e r y g o o d\n",
       "378643                                                                                                                                                                                                                                                                                                                                                                                                                                                                                                                                                                                                                                                                                                                                                                                                                                                                                                                     T H I S  C H O C O L A T E  I S  A D D I C T I O N  I  C A N 'T  S T O P  E A T I N G  I T T T T T\n",
       "388831                                                                                                                                                                                                                                                                                                                                                                                                                                                                                                                                                                                                                                                                                                                                                                                                                                                                                                                                                        v e r y g o o d v e r y g o o d v e r y g o o d v e r y g o o d\n",
       "487863                                                                                                                                                                                                                                                                                                                                                                                                                                                                                                                                                                                                                                                                                                                                                                                                                                                                                                                                                        v e r y g o o d v e r y g o o d v e r y g o o d v e r y g o o d\n",
       "544869                                                                                                                                                                                                                                                                                                                                                                                                                                                                                                                                                                                                                                                                                                                                                                                                                                                                                                                                                        v e r y g o o d v e r y g o o d v e r y g o o d v e r y g o o d\n",
       "Name: Text, dtype: object"
      ]
     },
     "execution_count": 17,
     "metadata": {},
     "output_type": "execute_result"
    }
   ],
   "source": [
    "df_text[idx_null_text_after_cleaning]"
   ]
  },
  {
   "cell_type": "markdown",
   "metadata": {},
   "source": [
    "I remove these reviews."
   ]
  },
  {
   "cell_type": "code",
   "execution_count": 5,
   "metadata": {},
   "outputs": [],
   "source": [
    "df_text_cleaned = df_text_cleaned[~df_text_cleaned.isnull()]"
   ]
  },
  {
   "cell_type": "markdown",
   "metadata": {},
   "source": [
    "Now, I want to check if there are duplicates in the dataset. Since I am looking for similar reviews, I want to delete all the possible duplicates, in order to avoid useless computation later on.\n",
    "\n",
    "A trick I can use to figure out if there are duplicates is to use a Python Counter dictionary applied directly on the text. In this way, I will know if a phrase appear more than ones."
   ]
  },
  {
   "cell_type": "code",
   "execution_count": 36,
   "metadata": {},
   "outputs": [
    {
     "data": {
      "text/plain": [
       "True"
      ]
     },
     "execution_count": 36,
     "metadata": {},
     "output_type": "execute_result"
    }
   ],
   "source": [
    "any(df_text_cleaned.duplicated())"
   ]
  },
  {
   "cell_type": "code",
   "execution_count": 26,
   "metadata": {},
   "outputs": [],
   "source": [
    "counter = Counter(df_text_cleaned)"
   ]
  },
  {
   "cell_type": "code",
   "execution_count": 30,
   "metadata": {},
   "outputs": [],
   "source": [
    "text_frequency = dict(sorted(counter.items(), key=lambda x: x[1], reverse=True))"
   ]
  },
  {
   "cell_type": "code",
   "execution_count": 34,
   "metadata": {},
   "outputs": [
    {
     "name": "stdout",
     "output_type": "stream",
     "text": [
      "199\n",
      "126\n",
      "51\n",
      "45\n",
      "42\n",
      "41\n",
      "38\n",
      "36\n",
      "35\n",
      "34\n"
     ]
    }
   ],
   "source": [
    "review_to_print = 10\n",
    "for review, freq in text_frequency.items():\n",
    "    if review_to_print == 0:\n",
    "        break\n",
    "\n",
    "    print(freq)\n",
    "    review_to_print -= 1\n"
   ]
  },
  {
   "cell_type": "code",
   "execution_count": 6,
   "metadata": {},
   "outputs": [
    {
     "name": "stdout",
     "output_type": "stream",
     "text": [
      "Number of duplicates: 175480\n"
     ]
    }
   ],
   "source": [
    "print(f\"Number of duplicates: {sum(df_text_cleaned.duplicated())}\")"
   ]
  },
  {
   "cell_type": "markdown",
   "metadata": {},
   "source": [
    "As we can see, there are a lot of duplicates."
   ]
  },
  {
   "cell_type": "code",
   "execution_count": 7,
   "metadata": {},
   "outputs": [
    {
     "name": "stdout",
     "output_type": "stream",
     "text": [
      "Number of reviews before: 568446\n"
     ]
    }
   ],
   "source": [
    "print(f\"Number of reviews before: {df_text_cleaned.shape[0]}\")"
   ]
  },
  {
   "cell_type": "markdown",
   "metadata": {},
   "source": [
    "There are a lot of duplicates (175487) so I'll remove them."
   ]
  },
  {
   "cell_type": "code",
   "execution_count": 8,
   "metadata": {},
   "outputs": [],
   "source": [
    "df_text_cleaned.drop_duplicates(inplace=True)"
   ]
  },
  {
   "cell_type": "code",
   "execution_count": 9,
   "metadata": {},
   "outputs": [
    {
     "name": "stdout",
     "output_type": "stream",
     "text": [
      "Number of reviews after: 392966\n"
     ]
    }
   ],
   "source": [
    "print(f\"Number of reviews after: {df_text_cleaned.shape[0]}\")"
   ]
  },
  {
   "cell_type": "markdown",
   "metadata": {},
   "source": [
    "Keep track of the indices in the original dataframe by having a map from the new indices to the old ones."
   ]
  },
  {
   "cell_type": "code",
   "execution_count": 10,
   "metadata": {},
   "outputs": [],
   "source": [
    "map_idx_new_to_old = dict(df_text_cleaned.reset_index()['index'])"
   ]
  },
  {
   "cell_type": "code",
   "execution_count": 11,
   "metadata": {},
   "outputs": [],
   "source": [
    "df_text_cleaned.reset_index(drop=True, inplace=True)"
   ]
  },
  {
   "cell_type": "markdown",
   "metadata": {},
   "source": [
    "# 2. Locality Sensitive Hashing Analysis"
   ]
  },
  {
   "cell_type": "markdown",
   "metadata": {},
   "source": [
    "After the pre-processing, I reduced the dataset and vocabulary dimensions. This has a positive impact on the following computation!  "
   ]
  },
  {
   "cell_type": "code",
   "execution_count": 12,
   "metadata": {},
   "outputs": [],
   "source": [
    "from sklearn.model_selection import train_test_split\n",
    "from sklearn.metrics.pairwise import cosine_similarity\n",
    "from sklearn.feature_extraction.text import TfidfVectorizer"
   ]
  },
  {
   "cell_type": "markdown",
   "metadata": {},
   "source": [
    "I can vectorize the dataset, by computing the TF-IDF vectors of each review."
   ]
  },
  {
   "cell_type": "code",
   "execution_count": 13,
   "metadata": {},
   "outputs": [],
   "source": [
    "vectorizer = TfidfVectorizer(stop_words='english') \n",
    "X_tfidf = vectorizer.fit_transform(df_text_cleaned)"
   ]
  },
  {
   "cell_type": "code",
   "execution_count": 14,
   "metadata": {},
   "outputs": [
    {
     "data": {
      "text/plain": [
       "(392966, 297509)"
      ]
     },
     "execution_count": 14,
     "metadata": {},
     "output_type": "execute_result"
    }
   ],
   "source": [
    "X_tfidf.shape"
   ]
  },
  {
   "attachments": {},
   "cell_type": "markdown",
   "metadata": {},
   "source": [
    "The **L**ocality **S**ensitive **H**ashing (LSH) technique is based on the idea of mapping items onto buckets, with the goal of having *similar* items on the same bucket with high probabiliy. *Similar* in this case means having a cosine similarity over the threshold. A bucket can be seen as a set that belong to a hash table. \n",
    "\n",
    "Ideally we want to have similar elements in the same bucket and the non-similar ones on different buckets.\n",
    "\n",
    "\n",
    "Therefore, it is required a function (hash function $h$) that when applied to two vectors $x, y\\in {\\rm I\\!R}^d$, if they are similar ($sim(x, y) \\ge \\theta$), they will have with high probability the same value:\n",
    "$$\n",
    "P(h(x) = h(y)) \\ge P_1\n",
    "$$\n",
    "and vectors that are far apart ($sim(x, y) \\le c\\theta$) will have different value:\n",
    "$$\n",
    "P(h(x) = h(y)) \\le P_2\n",
    "$$\n",
    "with $P_2 < P_1$ and $c < 1$.\n",
    "\n",
    "In the case of **cosine similarity**, the function is:\n",
    "$$\n",
    "h_u(x) = sign(u \\cdot x)\n",
    "$$\n",
    "where $u \\in {\\rm I\\!R}^d$ is a random unit vector, which defines an hyperplane.\n",
    "\n",
    "The idea is to generate uniformly at random $m$ hyperplanes that divide the space, so that for a particular hyperplane, a point in this space ends up in one of the two regions which the plane separates. Thus, we have that the closest two points are, the more likely they will be on the same region for a random hyperplane. \n",
    "\n",
    "\n",
    "The probability that two vectors, as above, hash to the same value is:\n",
    "$$\n",
    "p = P(h(x) = h(y)) = 1 - \\frac{\\arccos(sim(x, y))} {\\pi}\n",
    "$$ \n",
    "\n",
    "Once the hash value (signature) of a vector is computed, we can divide it in $b$ bands, each one containing $r$ rows.\n",
    "\n",
    "Now, a pair of reviews is consider a candidate pair, so similar, if and only if they have the same values on all in at **least one band**.\n",
    "\n",
    "The probability that for at least one band all the hashes are equal for a pair of two reviews is:\n",
    "$$\n",
    "P_{sim} = 1 - (1 - p^r) ^ b\n",
    "$$"
   ]
  },
  {
   "cell_type": "markdown",
   "metadata": {},
   "source": [
    "## 2.1 Fixing the Threshold"
   ]
  },
  {
   "cell_type": "markdown",
   "metadata": {},
   "source": [
    "Sample uniformly at random the 1% of the documents."
   ]
  },
  {
   "cell_type": "code",
   "execution_count": 73,
   "metadata": {},
   "outputs": [],
   "source": [
    "_, X_tfidf_threshold = train_test_split(X_tfidf, test_size=0.01, random_state=SEED)"
   ]
  },
  {
   "cell_type": "code",
   "execution_count": 74,
   "metadata": {},
   "outputs": [
    {
     "data": {
      "text/plain": [
       "(3930, 297509)"
      ]
     },
     "execution_count": 74,
     "metadata": {},
     "output_type": "execute_result"
    }
   ],
   "source": [
    "X_tfidf_threshold.shape"
   ]
  },
  {
   "cell_type": "markdown",
   "metadata": {},
   "source": [
    "Compute the average pairwise cosine similarity between the selected reviews."
   ]
  },
  {
   "cell_type": "code",
   "execution_count": 75,
   "metadata": {},
   "outputs": [],
   "source": [
    "similarities_for_threshold = cosine_similarity(X_tfidf_threshold, X_tfidf_threshold, dense_output=False)"
   ]
  },
  {
   "cell_type": "code",
   "execution_count": 80,
   "metadata": {},
   "outputs": [
    {
     "name": "stdout",
     "output_type": "stream",
     "text": [
      "Sampled average pairwaise cosine similarity: 0.01692\n",
      "39 x Sampled average pairwaise cosine similarity: 0.65969\n"
     ]
    }
   ],
   "source": [
    "print(f\"Sampled average pairwaise cosine similarity: {np.mean(similarities_for_threshold):.5f}\")\n",
    "times = 39\n",
    "print(f\"{times} x Sampled average pairwaise cosine similarity: {np.mean(similarities_for_threshold) * times:.5f}\")"
   ]
  },
  {
   "cell_type": "markdown",
   "metadata": {},
   "source": [
    "I select the threshold $\\theta$ equal to 0.65, therefore I consider two reviews to be **similar** when they have a cosine similarity greater than $\\theta$."
   ]
  },
  {
   "cell_type": "code",
   "execution_count": 15,
   "metadata": {},
   "outputs": [],
   "source": [
    "theta = 0.65"
   ]
  },
  {
   "cell_type": "markdown",
   "metadata": {},
   "source": [
    "In order to show how changes the threshold when the $b$ and $r$ vary, I plotted $P_{sim}$."
   ]
  },
  {
   "cell_type": "code",
   "execution_count": 83,
   "metadata": {},
   "outputs": [],
   "source": [
    "from matplotlib import pyplot as plt\n",
    "from matplotlib.pyplot import figure\n",
    "import matplotlib.transforms as transforms\n",
    "\n",
    "\n",
    "def plot_lsh_curve(p, rows=5, bands=24):\n",
    "    x = np.linspace(0, 1, num=500)\n",
    "    P = lambda x: 1 - (1 - x**rows)**bands\n",
    "    \n",
    "    _, ax = plt.subplots(figsize=(8, 6), dpi=80)\n",
    "\n",
    "    ax.plot(x, P(x))\n",
    "    ax.axvline(p, linestyle=\"--\", color=\"r\", label=\"Threshold\")\n",
    "\n",
    "    trans = transforms.blended_transform_factory(\n",
    "        ax.get_xticklabels()[0].get_transform(), ax.transData)\n",
    "    ax.text(p + 0.005, -0.13, \"p\", color=\"red\", transform=trans, \n",
    "            ha=\"right\", va=\"center\", fontsize=12)\n",
    "\n",
    "    ax.fill_between(x, P(x), where=x < p,  step=\"pre\", alpha=0.5, label=\"False Positives\")\n",
    "    ax.fill_betweenx(P(x), x, p, where=P(x) > P(p), step=\"mid\", alpha=0.4, color=\"r\", label=\"False Negatives\")\n",
    "\n",
    "    plt.legend(loc=\"upper left\")\n",
    "    plt.ylabel('Probability Sharing Bucket', fontsize=12)\n",
    "    plt.xlabel('Similarity', fontsize=12)\n",
    "    ax.xaxis.set_label_coords(.5, -0.1)\n",
    "    plt.grid()\n",
    "    plt.show()\n",
    "    \n"
   ]
  },
  {
   "cell_type": "code",
   "execution_count": 87,
   "metadata": {},
   "outputs": [
    {
     "data": {
      "text/plain": [
       "0.7252311215194696"
      ]
     },
     "execution_count": 87,
     "metadata": {},
     "output_type": "execute_result"
    }
   ],
   "source": [
    "p = 1 - np.arccos(theta) / np.pi\n",
    "p"
   ]
  },
  {
   "cell_type": "markdown",
   "metadata": {},
   "source": [
    "The graph is such that:\n",
    "$$\n",
    "p \\sim \\left ( \\frac{1}{b} \\right )^{\\frac{1}{r}}\n",
    "$$"
   ]
  },
  {
   "cell_type": "code",
   "execution_count": 85,
   "metadata": {},
   "outputs": [
    {
     "name": "stdout",
     "output_type": "stream",
     "text": [
      "680 0.8049356770309067\n"
     ]
    },
    {
     "data": {
      "image/png": "[encoded data removed]",
      "text/plain": [
       "<Figure size 640x480 with 1 Axes>"
      ]
     },
     "metadata": {
      "needs_background": "light"
     },
     "output_type": "display_data"
    }
   ],
   "source": [
    "r = 17\n",
    "b = 40\n",
    "\n",
    "print(r * b, (1/b) ** (1/r))\n",
    "plot_lsh_curve(p, r, b)"
   ]
  },
  {
   "cell_type": "markdown",
   "metadata": {},
   "source": [
    "After some trials I chose those values for $r$ and $b$, as it computationally feasible and it does not include too many false positives in the LSH buckets."
   ]
  },
  {
   "cell_type": "markdown",
   "metadata": {},
   "source": [
    "## 2.2 Compute Signatures"
   ]
  },
  {
   "cell_type": "code",
   "execution_count": 16,
   "metadata": {},
   "outputs": [],
   "source": [
    "class HashTable:\n",
    "    def __init__(self, signature_size: int, inp_dimensions: int):\n",
    "        self.signature_size = signature_size\n",
    "        self.projections = np.random.randn(self.signature_size, inp_dimensions)\n",
    "    \n",
    "    def generate_hash(self, inp_vector: Union[ scipy.sparse.csr.csr_matrix, np.ndarray ] ):\n",
    "        # If the dot product is greater than 0, we have a 1, otherwise a 0.\n",
    "        one_hot_signature = (inp_vector @ self.projections.T > 0).astype(np.uint8)\n",
    "        return [''.join(signature.astype(str)) for signature in one_hot_signature]\n",
    "    "
   ]
  },
  {
   "cell_type": "code",
   "execution_count": 17,
   "metadata": {},
   "outputs": [],
   "source": [
    "rows = 17\n",
    "bands = 40\n",
    "\n",
    "signature_size = rows * bands\n",
    "inp_dimensions = X_tfidf.shape[1]"
   ]
  },
  {
   "cell_type": "code",
   "execution_count": 18,
   "metadata": {},
   "outputs": [],
   "source": [
    "cosine_hash = HashTable(signature_size, inp_dimensions)"
   ]
  },
  {
   "cell_type": "markdown",
   "metadata": {},
   "source": [
    "Return Signature: 2m 30s"
   ]
  },
  {
   "cell_type": "code",
   "execution_count": 19,
   "metadata": {},
   "outputs": [],
   "source": [
    "signatures = cosine_hash.generate_hash(X_tfidf)"
   ]
  },
  {
   "cell_type": "markdown",
   "metadata": {},
   "source": [
    "I save the signatures via `pickle`."
   ]
  },
  {
   "cell_type": "markdown",
   "metadata": {},
   "source": [
    "    with open('sig_17_40.pkl', 'wb') as f:\n",
    "        pickle.dump(signatures, f, protocol=pickle.HIGHEST_PROTOCOL)"
   ]
  },
  {
   "cell_type": "code",
   "execution_count": 23,
   "metadata": {},
   "outputs": [],
   "source": [
    "with open('sig_17_40.pkl', 'rb') as f:\n",
    "    signatures = pickle.load(f)"
   ]
  },
  {
   "cell_type": "markdown",
   "metadata": {},
   "source": [
    "I split the original dataset into training and test sets at the beginning to store their indices, so I will not lose the reference after the analysis. I consider the 0.7% of the reviews as test set."
   ]
  },
  {
   "cell_type": "code",
   "execution_count": 20,
   "metadata": {},
   "outputs": [],
   "source": [
    "df_text_train, df_text_test = train_test_split(df_text_cleaned, test_size=0.007, random_state=SEED)"
   ]
  },
  {
   "cell_type": "code",
   "execution_count": 21,
   "metadata": {},
   "outputs": [],
   "source": [
    "train_idxs = df_text_train.index.sort_values()\n",
    "test_idxs = df_text_test.index.sort_values()"
   ]
  },
  {
   "cell_type": "code",
   "execution_count": 22,
   "metadata": {},
   "outputs": [],
   "source": [
    "X_tfidf_train = X_tfidf[train_idxs]\n",
    "X_tfidf_test = X_tfidf[test_idxs]"
   ]
  },
  {
   "cell_type": "code",
   "execution_count": 23,
   "metadata": {},
   "outputs": [
    {
     "name": "stdout",
     "output_type": "stream",
     "text": [
      "Training dimension: 390215\n",
      "Test dimension: 2751\n"
     ]
    }
   ],
   "source": [
    "print(f\"Training dimension: {df_text_train.shape[0]}\")\n",
    "print(f\"Test dimension: {df_text_test.shape[0]}\")"
   ]
  },
  {
   "cell_type": "markdown",
   "metadata": {},
   "source": [
    "## 2.3 LSH Computation"
   ]
  },
  {
   "cell_type": "markdown",
   "metadata": {},
   "source": [
    "I tried to consider the efficient ways to compute the buckets for LSH. The first and intuitive approach is of course using Python sets to store review indices for a given combination of bits. However, when the number of rows to be consider is small (rows < 8), Python sets become quite inefficient in storing indices and in particular in the later computation of the B set for the test reviews. The reason why is that there are so many reviews sharing that given number of bits, thus they will be part of the same set. \n",
    "\n",
    "Therefore, I decided to implement also another approach that is base on NumPy arrays. These arrays are very efficient in accessing their elements and for matrix calculations. When the number of rows is small (rows < 8), it is convenient to use this method, as the the number of similar reviews is pretty high, so the matrix will be almost dense. In this case, the array will have dimension ( len(signatures) ) and initialized with zeros; in such a way that, for a given sequence of bits of a particular review, there will be a 1 in the position of that review."
   ]
  },
  {
   "cell_type": "code",
   "execution_count": 24,
   "metadata": {},
   "outputs": [],
   "source": [
    "class LSH:\n",
    "    def __init__(self, bands: int, rows: int, matrix_form: bool=False):\n",
    "        self.bands = bands\n",
    "        self.rows = rows\n",
    "        self.matrix_form = matrix_form\n",
    "\n",
    "        # The dictionaries will contain numpy arrays\n",
    "        if matrix_form:\n",
    "            self.dictionaries = [defaultdict(np.ndarray) for _ in range(bands)]\n",
    "            self.bits_combinations = [\"\".join(bits) for bits in itertools.product(['0', '1'], repeat=self.rows)] \n",
    "        \n",
    "        else: # The dictionaries will sets\n",
    "            self.dictionaries = [defaultdict(set) for _ in range(bands)]\n",
    "        \n",
    "\n",
    "    def compute_dictionaries(self, signatures: Union[ List[str], np.ndarray ]):\n",
    "        # Initialize numpy arrays\n",
    "        if self.matrix_form:\n",
    "            for d in self.dictionaries:\n",
    "                for bits in self.bits_combinations:\n",
    "                    d[bits] = np.zeros(len(signatures), dtype=np.uint8)\n",
    "\n",
    "        # For every signature\n",
    "        for idx, sig in enumerate(signatures):\n",
    "            # For every bucket (dictionary)\n",
    "            for i in range(self.bands):\n",
    "                # Get 'self.rows' bits from the signature and hash them\n",
    "                bits_in_band = sig[i * self.rows : self.rows * (i + 1)]\n",
    "\n",
    "                if self.matrix_form:\n",
    "                    self.dictionaries[i][bits_in_band][idx] = 1\n",
    "\n",
    "                else:\n",
    "                    # Add the signature index (equivalently, the review index) to the i-th dictionary\n",
    "                    self.dictionaries[i][bits_in_band].add(idx)\n",
    "\n",
    "  "
   ]
  },
  {
   "cell_type": "code",
   "execution_count": 25,
   "metadata": {},
   "outputs": [],
   "source": [
    "lsh = LSH(bands, rows)"
   ]
  },
  {
   "cell_type": "code",
   "execution_count": 26,
   "metadata": {},
   "outputs": [],
   "source": [
    "np_signatures = np.array(signatures)\n",
    "# Get training signatures\n",
    "train_signatures = np_signatures[train_idxs]"
   ]
  },
  {
   "cell_type": "markdown",
   "metadata": {},
   "source": [
    "The following cell will compute the buckets for the training signatures."
   ]
  },
  {
   "cell_type": "code",
   "execution_count": 27,
   "metadata": {},
   "outputs": [],
   "source": [
    "start_buckets = time.time()\n",
    "lsh.compute_dictionaries(train_signatures)\n",
    "end_buckets = time.time()"
   ]
  },
  {
   "cell_type": "code",
   "execution_count": 28,
   "metadata": {},
   "outputs": [
    {
     "name": "stdout",
     "output_type": "stream",
     "text": [
      "Time required to compute buckets: 17.945s\n"
     ]
    }
   ],
   "source": [
    "print(f\"Time required to compute buckets: {end_buckets - start_buckets:.3f}s\")"
   ]
  },
  {
   "cell_type": "markdown",
   "metadata": {},
   "source": [
    "Save the dictionaries:\n",
    "\n",
    "    with open('dict_17_40.pkl', 'wb') as f:\n",
    "        pickle.dump(lsh.dictionaries, f, protocol=pickle.HIGHEST_PROTOCOL)"
   ]
  },
  {
   "cell_type": "code",
   "execution_count": 33,
   "metadata": {},
   "outputs": [],
   "source": [
    "with open('dict_17_40.pkl', 'rb') as f:\n",
    "    lsh.dictionaries = pickle.load(f)"
   ]
  },
  {
   "cell_type": "code",
   "execution_count": 29,
   "metadata": {},
   "outputs": [
    {
     "name": "stdout",
     "output_type": "stream",
     "text": [
      "Average number of reviews in one band: 3.2961523841702918\n"
     ]
    }
   ],
   "source": [
    "d = lsh.dictionaries[0]\n",
    "num_values_in_dict = sum(len(v) for k, v in d.items())\n",
    "print(\"Average number of reviews in one band:\", num_values_in_dict / len(d))"
   ]
  },
  {
   "cell_type": "code",
   "execution_count": 30,
   "metadata": {},
   "outputs": [],
   "source": [
    "batch_size = 250"
   ]
  },
  {
   "cell_type": "code",
   "execution_count": 31,
   "metadata": {},
   "outputs": [],
   "source": [
    "theta = 0.65"
   ]
  },
  {
   "cell_type": "markdown",
   "metadata": {},
   "source": [
    "## 2.4 Exact Cosine Similarity"
   ]
  },
  {
   "cell_type": "markdown",
   "metadata": {},
   "source": [
    "The exact cosine similarity for computing the set A can be efficiently performed by batching the reviews. Once a batch is computed, it is stacked with the previous ones. Moreover, even if the matrix is dense it is memory efficient, since I will only store booleans, resulting from `reviews_similarity > theta`. "
   ]
  },
  {
   "cell_type": "code",
   "execution_count": 32,
   "metadata": {},
   "outputs": [],
   "source": [
    "def compute_exact_stacked_similarity(\n",
    "    X_tfidf_test: scipy.sparse.csr.csr_matrix, \n",
    "    X_tfidf_train: scipy.sparse.csr.csr_matrix, \n",
    "    theta: float,\n",
    "    batch_size: int=250\n",
    ") -> Dict[int, set]:\n",
    "    \n",
    "    # First batch\n",
    "    reviews_similarity = cosine_similarity(X_tfidf_test[:batch_size], X_tfidf_train, dense_output=True)\n",
    "    stacked_similarities = reviews_similarity > theta\n",
    "\n",
    "    # Remaining batches\n",
    "    for i in range(batch_size, X_tfidf_test.shape[0], batch_size):\n",
    "        test_reviews = X_tfidf_test[i : i + batch_size]\n",
    "\n",
    "        # Compute cosine\n",
    "        reviews_similarity = cosine_similarity(test_reviews, X_tfidf_train, dense_output=True)\n",
    "        # Stack to the previous batches\n",
    "        stacked_similarities = np.vstack([stacked_similarities, reviews_similarity > theta])\n",
    "\n",
    "    return stacked_similarities\n",
    "    "
   ]
  },
  {
   "cell_type": "code",
   "execution_count": 33,
   "metadata": {},
   "outputs": [],
   "source": [
    "def compute_exact_similarity(\n",
    "    stacked_similarities: np.ndarray, \n",
    "    test_idxs: np.ndarray,\n",
    "    train_idxs: np.ndarray,\n",
    ") -> Dict[int, set]:\n",
    "    \n",
    "    exact_similarity_A = defaultdict(set)\n",
    "\n",
    "    # 'similar_over_threshold' is a numpy array of boolean.\n",
    "    # It is True in the indices for which the cosine resulted greater than theta.\n",
    "    for review_idx, similar_over_threshold in enumerate(stacked_similarities):\n",
    "        # Map to the indices in the original dataset\n",
    "        test_review_original_idx = test_idxs[review_idx]\n",
    "        \n",
    "        # Get indices of the similar reviews in the training set\n",
    "        similar_in_train_idxs = np.argwhere(similar_over_threshold).squeeze()\n",
    "        \n",
    "        if similar_in_train_idxs.size > 1:\n",
    "            # Map to the indices in the original dataset\n",
    "            train_reviews_original_idxs = map(lambda idx: train_idxs[idx], similar_in_train_idxs)\n",
    "            exact_similarity_A[test_review_original_idx] = set(train_reviews_original_idxs)\n",
    "        elif similar_in_train_idxs.size == 1:\n",
    "            exact_similarity_A[test_review_original_idx] = {train_idxs[similar_in_train_idxs]}\n",
    "        else:\n",
    "            exact_similarity_A[test_review_original_idx] = set()\n",
    "\n",
    "    return exact_similarity_A"
   ]
  },
  {
   "cell_type": "code",
   "execution_count": 34,
   "metadata": {},
   "outputs": [],
   "source": [
    "start_A = time.time()\n",
    "stacked_similarities = compute_exact_stacked_similarity(X_tfidf_test, X_tfidf_train, theta)\n",
    "exact_similarity_A = compute_exact_similarity(stacked_similarities, test_idxs, train_idxs)\n",
    "end_A = time.time()"
   ]
  },
  {
   "cell_type": "code",
   "execution_count": 35,
   "metadata": {},
   "outputs": [
    {
     "name": "stdout",
     "output_type": "stream",
     "text": [
      "Time required to compute A with the exact cosine similarity: 30.362s\n"
     ]
    }
   ],
   "source": [
    "print(f\"Time required to compute A with the exact cosine similarity: {end_A - start_A:.3f}s\")"
   ]
  },
  {
   "cell_type": "code",
   "execution_count": 37,
   "metadata": {},
   "outputs": [
    {
     "name": "stdout",
     "output_type": "stream",
     "text": [
      "2023 {2069}\n",
      "7790 {371878, 556, 160524, 252630, 48503}\n",
      "8449 {66155}\n",
      "11136 {196533}\n",
      "12070 {259490}\n",
      "15158 {67459, 71497, 220909, 233652, 15220}\n",
      "16188 {197408}\n",
      "17683 {297144, 89733, 151886}\n",
      "20306 {80228, 38660, 312073, 8013, 185748, 52062}\n",
      "21925 {9813, 97686}\n",
      "22932 {123302, 22974}\n",
      "24568 {85538}\n",
      "24924 {121848, 98303}\n",
      "28680 {205026, 238530, 238500, 28777, 153673, 28844, 153741, 238621, 153688, 28826, 153788, 28701, 28830, 28798}\n",
      "28746 {260152}\n",
      "32721 {374510, 91505, 123666, 362615, 29144, 29566}\n",
      "36924 {306497, 111979}\n",
      "38631 {11641, 98700}\n",
      "39364 {124400, 103057, 171525, 147169}\n",
      "39806 {232768, 39789, 39790, 39791, 155380, 39797, 203125, 39643, 39613, 39615}\n",
      "48487 {97891}\n",
      "48878 {281260}\n",
      "50381 {70612}\n",
      "52099 {208919}\n",
      "55053 {3842}\n",
      "55258 {55217, 55257, 55205}\n",
      "57206 {214305}\n",
      "57246 {57257}\n",
      "58979 {238972, 250415}\n",
      "60216 {312352, 115106, 294255, 271759, 312310, 95670, 335702, 381306, 312350}\n",
      "60547 {237528}\n",
      "61680 {277118}\n",
      "65240 {377395}\n",
      "65842 {95185}\n",
      "69869 {69863}\n",
      "73197 {291130}\n",
      "79375 {156223}\n",
      "83154 {303445}\n",
      "84054 {172986, 170805, 243266}\n",
      "100959 {132036, 35983}\n",
      "103384 {103408, 211453}\n",
      "105280 {362049}\n",
      "106816 {209675}\n",
      "109218 {109274}\n",
      "110081 {295833}\n",
      "112095 {174256, 333004, 94358, 324143}\n",
      "112264 {143931, 234338, 121547}\n",
      "126522 {126427}\n",
      "128322 {172064, 205789, 22813}\n",
      "129547 {106649}\n",
      "134992 {97258, 158532, 97470}\n",
      "136996 {311366}\n",
      "139193 {220996, 139207, 139242, 139248, 11122, 130035, 287034}\n",
      "141469 {187434, 316947}\n",
      "144145 {367600}\n",
      "146597 {125225}\n",
      "148896 {234726}\n",
      "154597 {332648, 56003}\n",
      "161924 {298670}\n",
      "165017 {27888, 28036, 27844, 390742}\n",
      "166143 {368317, 168526}\n",
      "177690 {350520}\n",
      "178475 {178440}\n",
      "184415 {332793}\n",
      "186442 {123778, 18503, 172427, 186131, 42995, 186134, 263576}\n",
      "186700 {1555, 269939}\n",
      "192100 {283127, 240511, 225175}\n",
      "192466 {329951}\n",
      "192575 {192625}\n",
      "198358 {130308, 130309, 130311, 130314, 130321, 130323, 130328, 130335, 130344, 130345, 130353, 130354, 130359, 130282, 130285, 130286, 130291, 130301, 130302, 130303}\n",
      "199913 {239888, 66959}\n",
      "208275 {235144, 260690, 260694}\n",
      "208479 {208481}\n",
      "209378 {241671, 241806, 68498, 209434, 362781, 133154, 209449, 5034, 5036, 209455, 209470, 209471, 209477, 209352, 337224, 337226, 209231, 209488, 209245, 209502, 348126, 209505, 209508, 209509, 241638, 209255, 209383, 93929, 209264, 241649, 209394, 209395, 209399, 351993}\n",
      "209866 {209874}\n",
      "218326 {257098}\n",
      "222695 {195410, 371972, 374751}\n",
      "224935 {274676}\n",
      "228785 {22720}\n",
      "230531 {130191}\n",
      "233913 {8986}\n",
      "241195 {196186}\n",
      "242527 {358151}\n",
      "246024 {246022}\n",
      "249411 {301570, 87402, 360203, 168566, 301564}\n",
      "252303 {376279}\n",
      "254363 {102354}\n",
      "265826 {86184}\n",
      "266387 {316316}\n",
      "273620 {181044, 9342}\n",
      "274380 {299702, 51999}\n",
      "275900 {302944}\n",
      "278178 {32744, 23474}\n",
      "280843 {382890, 128946, 258093}\n",
      "295286 {291826}\n",
      "306055 {333444, 177788}\n",
      "311787 {354688}\n",
      "312765 {179778, 105909, 320903}\n",
      "314869 {69952, 52522, 52535}\n",
      "322704 {271134}\n",
      "326492 {381850}\n",
      "331278 {366675, 285942, 51414, 285934}\n",
      "336638 {209165}\n",
      "340040 {381911}\n",
      "345423 {185586}\n",
      "345481 {362049, 164321, 201198, 366808}\n",
      "349677 {21763, 174787, 92332, 14572, 101677, 30527}\n",
      "349912 {327168, 240651, 101392, 141971, 299031, 93850, 115867, 283937, 199076, 384299, 216890, 321339, 302916, 40142, 374098, 143315, 147796, 285271, 70743, 105315, 33133, 383608}\n",
      "350293 {54542}\n",
      "351163 {351161}\n",
      "355557 {324304, 308050, 327309, 185423}\n",
      "357426 {357429}\n",
      "357680 {211194}\n",
      "361767 {370337, 110406, 361768, 330506, 269680, 361778, 284469, 337304, 330492, 130399}\n",
      "362519 {5482}\n",
      "364408 {115866, 364444, 202023, 115754, 115884, 311597, 115761, 154298, 115784, 115788, 181713, 364369, 364376, 38878, 200292, 181733, 181735, 12776, 38904, 364410, 189180}\n",
      "365062 {340585, 340524, 340589}\n",
      "371960 {144728}\n",
      "376119 {337795}\n",
      "377897 {378202}\n",
      "381116 {3555}\n",
      "382707 {312643}\n",
      "384097 {52465}\n",
      "385454 {360525}\n",
      "385614 {208773}\n",
      "389809 {389813}\n",
      "389870 {389676, 390358}\n",
      "392409 {196501}\n",
      "392418 {358020, 358021, 238502, 289469, 28777, 369161, 28651, 81867, 153741, 238676, 42390, 372310, 238520, 345818, 28861}\n"
     ]
    }
   ],
   "source": [
    "non_empty = 0\n",
    "for idx, s in exact_similarity_A.items():\n",
    "    if len(s) != 0:\n",
    "        print(idx, s)\n",
    "        non_empty += 1"
   ]
  },
  {
   "cell_type": "code",
   "execution_count": 38,
   "metadata": {},
   "outputs": [
    {
     "data": {
      "text/plain": [
       "0.04689203925845147"
      ]
     },
     "execution_count": 38,
     "metadata": {},
     "output_type": "execute_result"
    }
   ],
   "source": [
    "non_empty / len(test_idxs)"
   ]
  },
  {
   "cell_type": "markdown",
   "metadata": {},
   "source": [
    "With that value of theta, only 4% of the test reviews have a similar in the training set."
   ]
  },
  {
   "cell_type": "markdown",
   "metadata": {},
   "source": [
    "Save A:\n",
    "\n",
    "    with open('A_065.pkl', 'wb') as f:\n",
    "        pickle.dump(exact_similarity_A, f, protocol=pickle.HIGHEST_PROTOCOL)\n",
    "    "
   ]
  },
  {
   "cell_type": "code",
   "execution_count": 43,
   "metadata": {},
   "outputs": [],
   "source": [
    "with open('A_65.pkl', 'rb') as f:\n",
    "    exact_similarity_A = pickle.load(f)"
   ]
  },
  {
   "cell_type": "markdown",
   "metadata": {},
   "source": [
    "Let's see if the exact computation of the similarities is correct for some reviews: "
   ]
  },
  {
   "cell_type": "code",
   "execution_count": 105,
   "metadata": {},
   "outputs": [
    {
     "name": "stdout",
     "output_type": "stream",
     "text": [
      "good grapefruit juice fact best grapefruit juice ever take long pack however product buy cost\n",
      "grapefruit flavor sparkling water simply delicious refreshing really taste like grapefruit juice better also orange mango good favorite grapefruit\n"
     ]
    }
   ],
   "source": [
    "# This two are considered similar\n",
    "print(df_text_cleaned[121848])\n",
    "print(df_text_cleaned[98303])"
   ]
  },
  {
   "cell_type": "markdown",
   "metadata": {},
   "source": [
    "Indeed they are similar."
   ]
  },
  {
   "cell_type": "code",
   "execution_count": 108,
   "metadata": {},
   "outputs": [
    {
     "name": "stdout",
     "output_type": "stream",
     "text": [
      "buy coffee enjoy great strong tasting coffee\n",
      "love coffee add small amount regular coffee really make great tasting cup coffee\n"
     ]
    }
   ],
   "source": [
    "print(df_text_cleaned[306497])\n",
    "print(df_text_cleaned[111979])"
   ]
  },
  {
   "cell_type": "code",
   "execution_count": null,
   "metadata": {},
   "outputs": [],
   "source": []
  },
  {
   "cell_type": "markdown",
   "metadata": {},
   "source": [
    "## 2.5 LSH Similarity"
   ]
  },
  {
   "cell_type": "code",
   "execution_count": 40,
   "metadata": {},
   "outputs": [],
   "source": [
    "def compute_lsh_similarity(\n",
    "    lsh: LSH,\n",
    "    test_signatures: Union[ List[str], np.ndarray ], \n",
    "    test_idxs: np.ndarray, \n",
    "    rows: int,\n",
    "    bands: int,\n",
    "    \n",
    ") -> Dict[int, set]:\n",
    "\n",
    "    lsh_similarity_B = defaultdict(set)\n",
    "    for review_idx, sig in enumerate(test_signatures):\n",
    "        # Map to the indices in the original dataset\n",
    "        test_review_original_idx = test_idxs[review_idx]\n",
    "        \n",
    "        for i in range(bands):\n",
    "            bits_in_band = sig[i * rows : rows * (i + 1)]              # The training indices are the correct ones wrt the original dataset\n",
    "            lsh_similarity_B[test_review_original_idx] = lsh_similarity_B[test_review_original_idx].union(lsh.dictionaries[i][bits_in_band])\n",
    "\n",
    "    return lsh_similarity_B\n",
    "    "
   ]
  },
  {
   "cell_type": "code",
   "execution_count": 41,
   "metadata": {},
   "outputs": [],
   "source": [
    "test_signatures = np_signatures[test_idxs]"
   ]
  },
  {
   "cell_type": "code",
   "execution_count": 42,
   "metadata": {},
   "outputs": [],
   "source": [
    "start_B = time.time()\n",
    "lsh_similarity_B = compute_lsh_similarity(lsh, test_signatures, test_idxs, rows, bands)\n",
    "end_B = time.time()"
   ]
  },
  {
   "cell_type": "code",
   "execution_count": 43,
   "metadata": {},
   "outputs": [
    {
     "name": "stdout",
     "output_type": "stream",
     "text": [
      "Time required to compute B with the LSH method: 0.364s\n"
     ]
    }
   ],
   "source": [
    "print(f\"Time required to compute B with the LSH method: {end_B - start_B:.3f}s\")"
   ]
  },
  {
   "cell_type": "markdown",
   "metadata": {},
   "source": [
    "# 3 Comparisons between A and B"
   ]
  },
  {
   "cell_type": "markdown",
   "metadata": {},
   "source": [
    "Now, it is possible to compare the sets obtained from the exact compution A and the ones from the LSH method B. I will average the jaccard similarities between the sets of each test review. I also consider the case 'is_subset' to count how many elements of a set in A are in B. In this way, I am computing the number of reviews that are considered similar by the LSH approach and that are indeed similar. Therefore, it is a metric for the **recall**, as it counts the number of correctly predicted reviews. "
   ]
  },
  {
   "cell_type": "code",
   "execution_count": 44,
   "metadata": {},
   "outputs": [],
   "source": [
    "jaccards = {}\n",
    "is_subset = {}"
   ]
  },
  {
   "cell_type": "code",
   "execution_count": 45,
   "metadata": {},
   "outputs": [],
   "source": [
    "for review_idx in test_idxs:\n",
    "    union = exact_similarity_A[review_idx] | lsh_similarity_B[review_idx]\n",
    "    intersection = exact_similarity_A[review_idx] & lsh_similarity_B[review_idx]\n",
    "\n",
    "    # When the union is 0, the two sets are empy therefore the jaccard is 1\n",
    "    jaccards[review_idx] = 1 if len(union) == 0 else len(intersection) / len(union)\n",
    "    \n",
    "    if len(exact_similarity_A[review_idx]) == 0:\n",
    "        # If also the lsh set is empty, the is_subset metric is 1, otherwise 0\n",
    "        is_subset[review_idx] = 1 if len(lsh_similarity_B[review_idx]) == 0 else 0\n",
    "    else:\n",
    "        is_subset[review_idx] = len(intersection) / len(exact_similarity_A[review_idx])"
   ]
  },
  {
   "cell_type": "code",
   "execution_count": 46,
   "metadata": {},
   "outputs": [
    {
     "name": "stdout",
     "output_type": "stream",
     "text": [
      "Jaccard mean: 1.8451988847617938e-06\n"
     ]
    }
   ],
   "source": [
    "print(f\"Jaccard mean: {np.mean(list(jaccards.values()))}\")"
   ]
  },
  {
   "cell_type": "code",
   "execution_count": 47,
   "metadata": {},
   "outputs": [
    {
     "name": "stdout",
     "output_type": "stream",
     "text": [
      "Recall mean: 2.4233612019871563e-05\n"
     ]
    }
   ],
   "source": [
    "print(f\"Recall mean: {np.mean(list(is_subset.values()))}\")"
   ]
  },
  {
   "cell_type": "markdown",
   "metadata": {},
   "source": [
    "The results show that A and B are not similar as the Jaccard is approximately 0. The number is so small, also because I have removed all the duplicates from the dataset, thereby the number of possible similars decreases consistently. \n",
    "\n",
    "Even though I tried many configurations for b and r, the results did not change much. This is one of the best configuration I found.\n",
    "\n",
    "When I considered a small number of rows (r= 2,..7) to increase recall (against precision), the computation of B took so long that either did not fit in main memory or A was much faster to compute. For this reason I thought to the matrix approach using NumPy. But of course when the number of rows increases, the matrix becomes exponentially large and so it is not feasible anymore. I did not tried to make it sparse thanks to Scipy. I avoid sparsity in this case because it would be more difficult to keep the reference with the indices to the original dataset."
   ]
  },
  {
   "cell_type": "markdown",
   "metadata": {},
   "source": [
    "### Time Comparisons"
   ]
  },
  {
   "cell_type": "markdown",
   "metadata": {},
   "source": [
    "LSH:\n",
    "\n",
    "- Computation of signatures: 2m 30s\n",
    "- Computation of buckets: 18s\n",
    "- Computation of B: 0.3s\n",
    "\n",
    "Exact:\n",
    "\n",
    "- Computation of A: 30s"
   ]
  },
  {
   "cell_type": "markdown",
   "metadata": {},
   "source": [
    "If we exclude the pre-processing of the signatures, the LSH method is faster (**18.3s** < **30s**) than the exact computation with this configuration of $m = bands \\cdot rows = 40 \\cdot 17 = 680$."
   ]
  },
  {
   "cell_type": "code",
   "execution_count": null,
   "metadata": {},
   "outputs": [],
   "source": []
  },
  {
   "cell_type": "markdown",
   "metadata": {},
   "source": [
    "Now, it follows the NumPy approach, but I did not test it so much."
   ]
  },
  {
   "cell_type": "code",
   "execution_count": null,
   "metadata": {},
   "outputs": [],
   "source": []
  },
  {
   "cell_type": "markdown",
   "metadata": {},
   "source": [
    "When the dictionaries are in matrix form `LSH(bands, rows, matrix_form=True)`, we store NumPy arrays instead of Python sets. In this case, for a given test review, I can see which training reviews fall in its bucket by summing up, columm by column, all the arrays associated with this test review, i.e., the arrays at index `lsh.dictionaries[i][bits_in_band]`. I remember that each bucket array only contains binary values, where there is a 1 in the position of the training review that resides in that bucket. Therefore, when I consider a test review, I am interested in the buckets it should fall into, by considering 'rows' bits at a time of its signature. So, there will be 'bands' arrays for a given test review. \n",
    "\n",
    "If I sum up all these arrays I will obtain an array that has non-zero values in the positions of the training reviews that appear in all those arrays. In other words, the sum expresses the union of sets.\n",
    "\n",
    "The advantage of this is that summation of NumPy arrays is really efficient, more than union set, if the matrix is dense or partially dense."
   ]
  },
  {
   "cell_type": "code",
   "execution_count": null,
   "metadata": {},
   "outputs": [],
   "source": [
    "test_similarities = np.zeros((len(test_idxs), len(train_idxs)), dtype=np.uint32)\n",
    "\n",
    "for review_idx, sig in enumerate(test_signatures):\n",
    "    # Map to the indices in the original dataset\n",
    "    test_review_original_idx = test_idxs[review_idx]\n",
    "    \n",
    "    for i in range(bands):\n",
    "        bits_in_band = sig[i * rows : rows * (i + 1)]\n",
    "        test_similarities[review_idx] = np.sum([test_similarities[review_idx], lsh.dictionaries[i][bits_in_band]], axis=0)"
   ]
  },
  {
   "cell_type": "code",
   "execution_count": null,
   "metadata": {},
   "outputs": [],
   "source": [
    "stacked_similarities = compute_exact_stacked_similarity(X_tfidf_test, X_tfidf_train, theta)"
   ]
  },
  {
   "cell_type": "markdown",
   "metadata": {},
   "source": [
    "`logical_and` and `logical_or` convert in booleans the values of the matrices. Thus, all the non-zero value will be True and the zero values False. Then, if you sum up the cells that give True for the intersection, we will get the cardinality of the intersection, so the numerator of the Jaccard. On the other hand, the sum on the union will result into the denominator of the Jaccard. "
   ]
  },
  {
   "cell_type": "code",
   "execution_count": null,
   "metadata": {},
   "outputs": [],
   "source": [
    "intersection = np.logical_and(test_similarities, stacked_similarities) \n",
    "union = np.logical_or(test_similarities, stacked_similarities)\n",
    "\n",
    "print(f\"Jaccard mean: {intersection.sum() / float(union.sum())}\")"
   ]
  }
 ],
 "metadata": {
  "kernelspec": {
   "display_name": "Python 3.7.13 ('DL')",
   "language": "python",
   "name": "python3"
  },
  "language_info": {
   "codemirror_mode": {
    "name": "ipython",
    "version": 3
   },
   "file_extension": ".py",
   "mimetype": "text/x-python",
   "name": "python",
   "nbconvert_exporter": "python",
   "pygments_lexer": "ipython3",
   "version": "3.7.13"
  },
  "orig_nbformat": 4,
  "vscode": {
   "interpreter": {
    "hash": "bf37a2529baf03c803266b8d55d553bda8f92a60c47b8d9f7bdcfc02cbd55fef"
   }
  }
 },
 "nbformat": 4,
 "nbformat_minor": 2
}
